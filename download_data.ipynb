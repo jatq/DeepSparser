{
 "cells": [
  {
   "cell_type": "markdown",
   "metadata": {},
   "source": [
    "- Before running the main file, you need to download the data from the online repository.\n",
    "- You can use the following code to download the data, which will be saved in the \"dataset\" folder.\n",
    "- However, you may meet the case of re-direction when downloading the data, which is caused by the fact that the online repository is hosted on Gitee. \n",
    "- In this case, you need to download the data manually from the online repository (\"https://gitee.com/jatq33/data/tree/master/dataset/\") and put it in the \"dataset\" folder."
   ]
  },
  {
   "cell_type": "code",
   "execution_count": 10,
   "metadata": {},
   "outputs": [],
   "source": [
    "import requests\n",
    "from pathlib import Path\n",
    "online_root = \"https://gitee.com/jatq33/data/raw/master/dataset/\"\n",
    "online_root2 = \"https://gitee.com/jatq33/data/tree/master/dataset/\"\n",
    "local_root = Path(\"dataset/\")\n",
    "files = ['real/high_snr.npy', 'real/low_snr.npy', 'real/noises.npy', 'synthetic/training_data.npz', 'synthetic/testing_data.npz']\n",
    "for file in files:\n",
    "    online_path = online_root+file\n",
    "    local_path = local_root/file\n",
    "    r = requests.get(online_path, allow_redirects=False)\n",
    "    if r.status_code == 200:\n",
    "        with open(local_root/file, 'wb') as f:\n",
    "            f.write(r.content)\n",
    "        print(f\"downloaded file from {online_path} to {local_path}\")\n",
    "    elif r.status_code == 307:\n",
    "        print(f\"re-directing error, please download manually, the online link is {online_root2}, put the correspoing file to {real_data_path}\")\n",
    " "
   ]
  },
  {
   "cell_type": "code",
   "execution_count": null,
   "metadata": {},
   "outputs": [],
   "source": []
  }
 ],
 "metadata": {
  "kernelspec": {
   "display_name": "py39",
   "language": "python",
   "name": "python3"
  },
  "language_info": {
   "codemirror_mode": {
    "name": "ipython",
    "version": 3
   },
   "file_extension": ".py",
   "mimetype": "text/x-python",
   "name": "python",
   "nbconvert_exporter": "python",
   "pygments_lexer": "ipython3",
   "version": "3.9.18"
  }
 },
 "nbformat": 4,
 "nbformat_minor": 2
}
